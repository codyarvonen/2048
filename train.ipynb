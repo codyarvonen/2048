{
  "cells": [
    {
      "cell_type": "code",
      "execution_count": 1,
      "metadata": {
        "colab": {
          "base_uri": "https://localhost:8080/"
        },
        "id": "9t6VZM-WqjJa",
        "outputId": "4525382a-0588-45fe-c595-c1470f5d3680"
      },
      "outputs": [
        {
          "name": "stdout",
          "output_type": "stream",
          "text": [
            "Cloning into '2048'...\n",
            "remote: Enumerating objects: 110, done.\u001b[K\n",
            "remote: Counting objects: 100% (110/110), done.\u001b[K\n",
            "remote: Compressing objects: 100% (78/78), done.\u001b[K\n",
            "remote: Total 110 (delta 62), reused 70 (delta 29), pack-reused 0\u001b[K\n",
            "Receiving objects: 100% (110/110), 922.57 KiB | 7.26 MiB/s, done.\n",
            "Resolving deltas: 100% (62/62), done.\n"
          ]
        }
      ],
      "source": [
        "# Run this cell only if you are running this in google colab\n",
        "!git clone https://github.com/codyarvonen/2048\n",
        "import sys\n",
        "sys.path.append('/content/2048')"
      ]
    },
    {
      "cell_type": "code",
      "execution_count": 1,
      "metadata": {
        "colab": {
          "base_uri": "https://localhost:8080/"
        },
        "id": "0LgWnawKqjJe",
        "outputId": "7e77f967-81d4-42df-9f5e-a6bce8d081ee"
      },
      "outputs": [
        {
          "name": "stdout",
          "output_type": "stream",
          "text": [
            "pygame 2.3.0 (SDL 2.24.2, Python 3.10.0)\n",
            "Hello from the pygame community. https://www.pygame.org/contribute.html\n"
          ]
        }
      ],
      "source": [
        "import math\n",
        "import random\n",
        "import pickle\n",
        "import numpy as np\n",
        "import matplotlib.pyplot as plt\n",
        "from tqdm import tqdm\n",
        "from game import Game\n",
        "from direction import Direction"
      ]
    },
    {
      "cell_type": "code",
      "execution_count": 2,
      "metadata": {
        "id": "4Gu2QTalqjJe"
      },
      "outputs": [],
      "source": [
        "def play_random_game(save: bool=False):\n",
        "    # Initialize the random game\n",
        "    random_seed = random.randint(0, 2**32 - 1)\n",
        "    random_game = Game(seed=random_seed, iterative_mode=True, save_game=save, visualize=False)\n",
        "    board = random_game.init_board()\n",
        "\n",
        "    # print(random_seed)\n",
        "\n",
        "    # Step through the game loop\n",
        "    total_score = 0\n",
        "    game_over = False\n",
        "    count = 0\n",
        "    while not game_over:\n",
        "        action = random.choice(list(Direction))\n",
        "        # print(board)\n",
        "        # print(action)\n",
        "        new_board, reward, game_over = random_game.step(board, action)\n",
        "        # print(reward.get_total_reward(), reward.action_score)\n",
        "        total_score += reward.action_score\n",
        "        count += 1\n",
        "        board = new_board.copy()\n",
        "\n",
        "\n",
        "    if save:\n",
        "        random_game.history.final_board = board\n",
        "        random_game.store_history('test_random_games')\n",
        "\n",
        "    return board, total_score, count"
      ]
    },
    {
      "cell_type": "code",
      "execution_count": 3,
      "metadata": {
        "id": "FQnRAtUZqjJf"
      },
      "outputs": [],
      "source": [
        "def print_game_stats_from_file(file: str):\n",
        "    with open(file, 'rb') as f:\n",
        "        game_history = pickle.load(f)\n",
        "        print(game_history.final_board)\n",
        "        # Game(seed=game_history.seed, command_list=game_history.action_list).run() "
      ]
    },
    {
      "cell_type": "code",
      "execution_count": 4,
      "metadata": {
        "id": "kIjiY2QdqjJf"
      },
      "outputs": [],
      "source": [
        "def plot_score_dist(scores):\n",
        "    # Score distribution\n",
        "    plt.hist(scores, bins = 100)\n",
        "    plt.title(\"Total score distribution\")\n",
        "    plt.xlabel(\"Total Score\")\n",
        "    plt.ylabel(\"Frequency\")\n",
        "    plt.show()\n",
        "\n",
        "def plot_best_tile_dist(tiles):\n",
        "    # Best tile distribution\n",
        "    max_power = int(math.log(max(tiles), 2)) + 1\n",
        "    min_power = int(math.log(min(tiles), 2))\n",
        "    unique, counts = np.unique(tiles, return_counts=True)\n",
        "    plt.bar([str(2 ** i) for i in range(min_power, max_power)], counts)\n",
        "    plt.title(\"Best tile distribution\")\n",
        "    plt.xlabel(\"Best tile\")\n",
        "    plt.ylabel(\"Frequency\")\n",
        "    plt.show()"
      ]
    },
    {
      "attachments": {},
      "cell_type": "markdown",
      "metadata": {
        "id": "gsks-GAVqjJg"
      },
      "source": [
        "**Baseline**"
      ]
    },
    {
      "cell_type": "code",
      "execution_count": 5,
      "metadata": {
        "id": "Ggrd4RBpqjJh"
      },
      "outputs": [
        {
          "name": "stderr",
          "output_type": "stream",
          "text": [
            "100%|██████████| 500/500 [00:12<00:00, 40.95it/s]\n"
          ]
        },
        {
          "data": {
            "text/plain": [
              "140.98"
            ]
          },
          "execution_count": 5,
          "metadata": {},
          "output_type": "execute_result"
        }
      ],
      "source": [
        "baseline_episodes = 500\n",
        "baseline_scores = []\n",
        "baseline_best_tiles = []\n",
        "save_random_games = False\n",
        "\n",
        "iterations = []\n",
        "\n",
        "for episode in tqdm(range(baseline_episodes), total=baseline_episodes):\n",
        "    board, score, num_iterations = play_random_game(save=save_random_games)\n",
        "    baseline_scores.append(score)\n",
        "    baseline_best_tiles.append(np.amax(board))\n",
        "    iterations.append(num_iterations)\n",
        "\n",
        "np.mean(np.array(iterations))\n"
      ]
    },
    {
      "cell_type": "code",
      "execution_count": 6,
      "metadata": {
        "colab": {
          "base_uri": "https://localhost:8080/",
          "height": 927
        },
        "id": "qQZYYU0HqjJi",
        "outputId": "7ca74a38-f868-4bdc-e65c-75f78afe38f0"
      },
      "outputs": [
        {
          "data": {
            "image/png": "[encoded data removed]",
            "text/plain": [
              "<Figure size 640x480 with 1 Axes>"
            ]
          },
          "metadata": {},
          "output_type": "display_data"
        },
        {
          "data": {
            "image/png": "[encoded data removed]",
            "text/plain": [
              "<Figure size 640x480 with 1 Axes>"
            ]
          },
          "metadata": {},
          "output_type": "display_data"
        }
      ],
      "source": [
        "plot_score_dist(baseline_scores)\n",
        "plot_best_tile_dist(baseline_best_tiles)"
      ]
    },
    {
      "attachments": {},
      "cell_type": "markdown",
      "metadata": {
        "id": "1rRfK65wqjJj"
      },
      "source": [
        "**Training**"
      ]
    },
    {
      "cell_type": "code",
      "execution_count": 5,
      "metadata": {
        "id": "gwO7vNPfqjJj"
      },
      "outputs": [],
      "source": [
        "from memory import ReplayMemory, Experience\n",
        "from qnet import QNet\n",
        "import torch\n",
        "import torch.nn as nn\n",
        "import torch.optim as optim"
      ]
    },
    {
      "cell_type": "code",
      "execution_count": 6,
      "metadata": {
        "colab": {
          "base_uri": "https://localhost:8080/"
        },
        "id": "xlCqDuFZqjJk",
        "outputId": "d6eace79-4fa0-412d-a5d9-e51a20962448"
      },
      "outputs": [
        {
          "name": "stdout",
          "output_type": "stream",
          "text": [
            "cpu\n"
          ]
        }
      ],
      "source": [
        "device = torch.device(\"cuda\" if torch.cuda.is_available() else \"cpu\")\n",
        "print(device)"
      ]
    },
    {
      "cell_type": "code",
      "execution_count": 17,
      "metadata": {
        "colab": {
          "base_uri": "https://localhost:8080/",
          "height": 389
        },
        "id": "k8X04BbpqjJk",
        "outputId": "c60f6da4-59cc-46ba-81bb-cea5ce7f0a12"
      },
      "outputs": [
        {
          "name": "stderr",
          "output_type": "stream",
          "text": [
            "Training:   0%|          | 0/20000 [00:00<?, ?it/s]"
          ]
        },
        {
          "name": "stdout",
          "output_type": "stream",
          "text": [
            "2\n"
          ]
        },
        {
          "name": "stderr",
          "output_type": "stream",
          "text": [
            "best_tile: 64, avg_best_tile: 64.0, replay_memory: 0.19230769230769232:   0%|          | 1/20000 [00:04<25:02:53,  4.51s/it]"
          ]
        },
        {
          "name": "stdout",
          "output_type": "stream",
          "text": [
            "2\n"
          ]
        },
        {
          "name": "stderr",
          "output_type": "stream",
          "text": [
            "best_tile: 64, avg_best_tile: 64.0, replay_memory: 0.16666666666666666:   0%|          | 3/20000 [00:07<12:30:41,  2.25s/it]"
          ]
        },
        {
          "name": "stdout",
          "output_type": "stream",
          "text": [
            "2\n"
          ]
        },
        {
          "name": "stderr",
          "output_type": "stream",
          "text": [
            "best_tile: 64, avg_best_tile: 64.0, replay_memory: 0.16521739130434782:   0%|          | 5/20000 [00:10<10:14:51,  1.85s/it]"
          ]
        },
        {
          "name": "stdout",
          "output_type": "stream",
          "text": [
            "2\n"
          ]
        },
        {
          "name": "stderr",
          "output_type": "stream",
          "text": [
            "best_tile: 64, avg_best_tile: 64.0, replay_memory: 0.15704387990762125:   0%|          | 6/20000 [00:12<10:32:43,  1.90s/it]"
          ]
        },
        {
          "name": "stdout",
          "output_type": "stream",
          "text": [
            "2\n"
          ]
        },
        {
          "name": "stderr",
          "output_type": "stream",
          "text": [
            "best_tile: 64, avg_best_tile: 64.0, replay_memory: 0.1528776978417266:   0%|          | 8/20000 [00:14<8:19:16,  1.50s/it]  "
          ]
        },
        {
          "name": "stdout",
          "output_type": "stream",
          "text": [
            "2\n"
          ]
        },
        {
          "name": "stderr",
          "output_type": "stream",
          "text": [
            "best_tile: 128, avg_best_tile: 74.66666666666667, replay_memory: 0.15491009681881052:   0%|          | 9/20000 [00:16<8:51:19,  1.59s/it]"
          ]
        },
        {
          "name": "stdout",
          "output_type": "stream",
          "text": [
            "2\n"
          ]
        },
        {
          "name": "stderr",
          "output_type": "stream",
          "text": [
            "best_tile: 64, avg_best_tile: 73.14285714285714, replay_memory: 0.14819427148194272:   0%|          | 10/20000 [00:18<9:14:47,  1.67s/it]"
          ]
        },
        {
          "name": "stdout",
          "output_type": "stream",
          "text": [
            "2\n"
          ]
        },
        {
          "name": "stderr",
          "output_type": "stream",
          "text": [
            "best_tile: 64, avg_best_tile: 72.0, replay_memory: 0.15148188803512624:   0%|          | 12/20000 [00:20<7:36:17,  1.37s/it]             "
          ]
        },
        {
          "name": "stdout",
          "output_type": "stream",
          "text": [
            "2\n"
          ]
        },
        {
          "name": "stderr",
          "output_type": "stream",
          "text": [
            "best_tile: 128, avg_best_tile: 78.22222222222223, replay_memory: 0.15391791044776118:   0%|          | 13/20000 [00:21<8:20:07,  1.50s/it]"
          ]
        },
        {
          "name": "stdout",
          "output_type": "stream",
          "text": [
            "2\n",
            "2\n",
            "2\n",
            "2\n"
          ]
        },
        {
          "name": "stderr",
          "output_type": "stream",
          "text": [
            "best_tile: 128, avg_best_tile: 83.2, replay_memory: 0.14763014763014762:   0%|          | 14/20000 [00:24<9:09:31,  1.65s/it]             "
          ]
        },
        {
          "name": "stdout",
          "output_type": "stream",
          "text": [
            "2\n",
            "2\n"
          ]
        },
        {
          "name": "stderr",
          "output_type": "stream",
          "text": [
            "best_tile: 64, avg_best_tile: 81.45454545454545, replay_memory: 0.14892086330935253:   0%|          | 15/20000 [00:25<9:27:35,  1.70s/it]"
          ]
        },
        {
          "name": "stdout",
          "output_type": "stream",
          "text": [
            "2\n"
          ]
        },
        {
          "name": "stderr",
          "output_type": "stream",
          "text": [
            "best_tile: 32, avg_best_tile: 77.33333333333333, replay_memory: 0.1481994459833795:   0%|          | 17/20000 [00:27<7:36:48,  1.37s/it] "
          ]
        },
        {
          "name": "stdout",
          "output_type": "stream",
          "text": [
            "2\n",
            "2\n"
          ]
        },
        {
          "name": "stderr",
          "output_type": "stream",
          "text": [
            "best_tile: 32, avg_best_tile: 73.84615384615384, replay_memory: 0.15227422544495714:   0%|          | 18/20000 [00:30<8:56:40,  1.61s/it]"
          ]
        },
        {
          "name": "stdout",
          "output_type": "stream",
          "text": [
            "2\n",
            "2\n",
            "2\n"
          ]
        },
        {
          "name": "stderr",
          "output_type": "stream",
          "text": [
            "best_tile: 64, avg_best_tile: 76.8, replay_memory: 0.15885714285714286:   0%|          | 20/20000 [00:34<10:24:17,  1.87s/it]              "
          ]
        },
        {
          "name": "stdout",
          "output_type": "stream",
          "text": [
            "2\n",
            "2\n",
            "2\n"
          ]
        },
        {
          "name": "stderr",
          "output_type": "stream",
          "text": [
            "best_tile: 128, avg_best_tile: 80.0, replay_memory: 0.15772870662460567:   0%|          | 21/20000 [00:37<12:13:50,  2.20s/it]"
          ]
        },
        {
          "name": "stdout",
          "output_type": "stream",
          "text": [
            "2\n",
            "2\n",
            "2\n",
            "2\n"
          ]
        },
        {
          "name": "stderr",
          "output_type": "stream",
          "text": [
            "                                                                                                                              \r"
          ]
        },
        {
          "ename": "KeyboardInterrupt",
          "evalue": "",
          "output_type": "error",
          "traceback": [
            "\u001b[0;31m---------------------------------------------------------------------------\u001b[0m",
            "\u001b[0;31mKeyboardInterrupt\u001b[0m                         Traceback (most recent call last)",
            "Cell \u001b[0;32mIn[17], line 128\u001b[0m\n\u001b[1;32m    125\u001b[0m loss \u001b[39m=\u001b[39m criterion(estimated_actions, expected_actions\u001b[39m.\u001b[39munsqueeze(\u001b[39m1\u001b[39m))\n\u001b[1;32m    127\u001b[0m optimizer\u001b[39m.\u001b[39mzero_grad()\n\u001b[0;32m--> 128\u001b[0m loss\u001b[39m.\u001b[39;49mbackward()\n\u001b[1;32m    129\u001b[0m optimizer\u001b[39m.\u001b[39mstep()\n\u001b[1;32m    131\u001b[0m \u001b[39m# losses.append(loss.detach())\u001b[39;00m\n",
            "File \u001b[0;32m~/Desktop/2048/venv/lib/python3.10/site-packages/torch/_tensor.py:487\u001b[0m, in \u001b[0;36mTensor.backward\u001b[0;34m(self, gradient, retain_graph, create_graph, inputs)\u001b[0m\n\u001b[1;32m    477\u001b[0m \u001b[39mif\u001b[39;00m has_torch_function_unary(\u001b[39mself\u001b[39m):\n\u001b[1;32m    478\u001b[0m     \u001b[39mreturn\u001b[39;00m handle_torch_function(\n\u001b[1;32m    479\u001b[0m         Tensor\u001b[39m.\u001b[39mbackward,\n\u001b[1;32m    480\u001b[0m         (\u001b[39mself\u001b[39m,),\n\u001b[0;32m   (...)\u001b[0m\n\u001b[1;32m    485\u001b[0m         inputs\u001b[39m=\u001b[39minputs,\n\u001b[1;32m    486\u001b[0m     )\n\u001b[0;32m--> 487\u001b[0m torch\u001b[39m.\u001b[39;49mautograd\u001b[39m.\u001b[39;49mbackward(\n\u001b[1;32m    488\u001b[0m     \u001b[39mself\u001b[39;49m, gradient, retain_graph, create_graph, inputs\u001b[39m=\u001b[39;49minputs\n\u001b[1;32m    489\u001b[0m )\n",
            "File \u001b[0;32m~/Desktop/2048/venv/lib/python3.10/site-packages/torch/autograd/__init__.py:200\u001b[0m, in \u001b[0;36mbackward\u001b[0;34m(tensors, grad_tensors, retain_graph, create_graph, grad_variables, inputs)\u001b[0m\n\u001b[1;32m    195\u001b[0m     retain_graph \u001b[39m=\u001b[39m create_graph\n\u001b[1;32m    197\u001b[0m \u001b[39m# The reason we repeat same the comment below is that\u001b[39;00m\n\u001b[1;32m    198\u001b[0m \u001b[39m# some Python versions print out the first line of a multi-line function\u001b[39;00m\n\u001b[1;32m    199\u001b[0m \u001b[39m# calls in the traceback and some print out the last line\u001b[39;00m\n\u001b[0;32m--> 200\u001b[0m Variable\u001b[39m.\u001b[39;49m_execution_engine\u001b[39m.\u001b[39;49mrun_backward(  \u001b[39m# Calls into the C++ engine to run the backward pass\u001b[39;49;00m\n\u001b[1;32m    201\u001b[0m     tensors, grad_tensors_, retain_graph, create_graph, inputs,\n\u001b[1;32m    202\u001b[0m     allow_unreachable\u001b[39m=\u001b[39;49m\u001b[39mTrue\u001b[39;49;00m, accumulate_grad\u001b[39m=\u001b[39;49m\u001b[39mTrue\u001b[39;49;00m)\n",
            "\u001b[0;31mKeyboardInterrupt\u001b[0m: "
          ]
        }
      ],
      "source": [
        "# TODO: refactor constants\n",
        "MEM_CAPACITY = 50000\n",
        "NUM_STATES = 16\n",
        "NUM_ACTIONS = 4\n",
        "LEARNING_RATE = 5e-5\n",
        "EPISODES = 20000\n",
        "EPSILON_START = 0.9\n",
        "EPSILON_END = 0.01\n",
        "EPSILON_DECAY = 0.999\n",
        "UPDATE_TARGET = 25\n",
        "BATCH_SIZE = 128\n",
        "LEARN_ITERATIONS = 50\n",
        "GAMMA = 0.99\n",
        "\n",
        "# TODO: decay the LR?\n",
        "\n",
        "save_episodes = False\n",
        "\n",
        "# Initialize replay memory\n",
        "replay_memory = ReplayMemory(MEM_CAPACITY)\n",
        "\n",
        "# Initialize action-value function and target action-value function\n",
        "qnet = QNet(NUM_STATES, NUM_ACTIONS, device).to(device)\n",
        "qnet_target = QNet(NUM_STATES, NUM_ACTIONS, device).to(device)\n",
        "qnet.train()\n",
        "qnet_target.eval()\n",
        "\n",
        "# Initialize optimization functions\n",
        "criterion = nn.MSELoss()\n",
        "optimizer = optim.Adam(qnet.parameters(), lr=LEARNING_RATE)\n",
        "\n",
        "# Iterate through the episodes\n",
        "iterations = 0\n",
        "epsilon = EPSILON_START\n",
        "trained_scores = []\n",
        "trained_best_tiles = []\n",
        "losses = []\n",
        "# for episode in tqdm(range(EPISODES), total=EPISODES):\n",
        "pbar = tqdm(range(EPISODES), total=EPISODES, desc=\"Training\", leave=False)\n",
        "# for episode in tqdm(range(EPISODES), total=EPISODES, desc=\"Training\", leave=False):\n",
        "for episode in pbar:\n",
        "    # Initialize game for episode\n",
        "    episode_game = Game(seed=random.randint(0, (2**32)-1), iterative_mode=True, save_game=save_episodes, visualize=False)\n",
        "\n",
        "    # Initialize the board\n",
        "    board = episode_game.init_board()\n",
        "\n",
        "    # Step through the episode\n",
        "    episode_score = 0\n",
        "    episode_done = False\n",
        "    is_invalid = False\n",
        "    invalid_index = 1\n",
        "    while not episode_done:\n",
        "\n",
        "        # With probability epsilon select a random action, else choose from policy\n",
        "        if random.uniform(0, 1) < epsilon:\n",
        "            action = random.choice(list(Direction))\n",
        "            is_invalid = False\n",
        "            invalid_index = 1\n",
        "        else:\n",
        "            qnet.eval()\n",
        "            with torch.no_grad():\n",
        "                if is_invalid:\n",
        "                    if invalid_index == 5:\n",
        "                        invalid_index = 1\n",
        "                    elif invalid_index > 5:\n",
        "                        raise Exception(\"invalid index is greater than 5...\")  \n",
        "                    _, indices = torch.topk(qnet(board), k=invalid_index)\n",
        "                    action = indices[0][invalid_index-1]\n",
        "                    is_invalid = False\n",
        "                else:\n",
        "                    action = torch.argmax(qnet(board))\n",
        "                action = Direction(action.item())\n",
        "            qnet.train()\n",
        "        \n",
        "        # # Update epsilon\n",
        "        # epsilon = epsilon * EPSILON_DECAY\n",
        "        # epsilon = max(epsilon, EPSILON_END)\n",
        "\n",
        "        # Execute action and observe reward\n",
        "        result = episode_game.step(board, action)\n",
        "        \n",
        "        reward = result[1].get_total_reward()\n",
        "        episode_score += result[1].action_score\n",
        "        \n",
        "        replay_memory.memory.append(Experience(board, action, reward, result[0]))\n",
        "\n",
        "        if np.array_equal(board, result[0]):\n",
        "            invalid_index += 1\n",
        "            is_invalid = True\n",
        "        else:\n",
        "            invalid_index = 1\n",
        "            board = result[0]\n",
        "\n",
        "        episode_done = result[2]\n",
        "\n",
        "        if episode_done:\n",
        "            # Optimize model if \n",
        "            if len(replay_memory) > BATCH_SIZE:\n",
        "                for i in range(LEARN_ITERATIONS):\n",
        "                    experiences = replay_memory.sample(BATCH_SIZE)\n",
        "                    states = []\n",
        "                    actions = []\n",
        "                    rewards = []\n",
        "                    next_states = []\n",
        "                    for experience in experiences:\n",
        "                        states.append(experience.state)\n",
        "                        actions.append(experience.action)\n",
        "                        rewards.append(experience.reward)\n",
        "                        next_states.append(experience.next_state)\n",
        "                                        \n",
        "\n",
        "                    states = np.array(states)\n",
        "                    actions = torch.tensor([act.value for act in actions]).unsqueeze(1).to(device)\n",
        "                    rewards = torch.tensor(rewards).to(device)\n",
        "                    next_states = np.array(next_states)\n",
        "                    \n",
        "                    # Get the Q values for each action\n",
        "                    q_vals = qnet(states)\n",
        "\n",
        "                    # Gather the Q values for the action that was taken\n",
        "                    estimated_actions = torch.gather(q_vals, 1, actions)\n",
        "\n",
        "                    expected_actions = qnet_target(next_states).max(1)[0].detach().float()\n",
        "                    expected_actions = (expected_actions * GAMMA) + rewards\n",
        "                    expected_actions = expected_actions.float()\n",
        "\n",
        "                    loss = criterion(estimated_actions, expected_actions.unsqueeze(1))\n",
        "\n",
        "                    optimizer.zero_grad()\n",
        "                    loss.backward()\n",
        "                    optimizer.step()\n",
        "\n",
        "                    # losses.append(loss.detach())\n",
        "\n",
        "    best_tile = np.amax(board)\n",
        "    trained_scores.append(episode_score)\n",
        "    trained_best_tiles.append(best_tile)\n",
        "\n",
        "    # Update epsilon\n",
        "    epsilon = epsilon * EPSILON_DECAY\n",
        "    epsilon = max(epsilon, EPSILON_END)\n",
        "\n",
        "    if save_episodes:\n",
        "        episode_game.store_history('training_episodes_2')\n",
        "\n",
        "    # Every C steps reset target model\n",
        "    if episode % UPDATE_TARGET == 0:\n",
        "        qnet_target.load_state_dict(qnet.state_dict())\n",
        "        qnet.train()\n",
        "\n",
        "    mem_conc = [x.reward for x in replay_memory.memory if x.reward == -10]\n",
        "\n",
        "    pbar.set_description(f\"best_tile: {best_tile}, avg_best_tile: {np.mean(np.array(trained_best_tiles))}, replay_memory: {len(mem_conc)/len(replay_memory)}\")\n",
        "    pbar.update(1)\n",
        "\n",
        "# pbar.close()\n",
        "\n",
        "# TODO: Save the model\n",
        "\n",
        "\n",
        "# THE PROBLEM: it only needs one invalid move to get it caught in an infinite loop. \n",
        "# Once that happens, the buffer fills up with identical steps and skews everything and drastically increases the \n",
        "# iteration time."
      ]
    },
    {
      "cell_type": "code",
      "execution_count": 9,
      "metadata": {
        "colab": {
          "base_uri": "https://localhost:8080/",
          "height": 927
        },
        "id": "Gy32pgKWqjJl",
        "outputId": "5b014af9-187c-4620-90a4-a1e301e135f3"
      },
      "outputs": [
        {
          "data": {
            "image/png": "[encoded data removed]",
            "text/plain": [
              "<Figure size 640x480 with 1 Axes>"
            ]
          },
          "metadata": {},
          "output_type": "display_data"
        },
        {
          "data": {
            "image/png": "[encoded data removed]",
            "text/plain": [
              "<Figure size 640x480 with 1 Axes>"
            ]
          },
          "metadata": {},
          "output_type": "display_data"
        }
      ],
      "source": [
        "plot_score_dist(trained_scores)\n",
        "plot_best_tile_dist(trained_best_tiles)"
      ]
    },
    {
      "cell_type": "code",
      "execution_count": 64,
      "metadata": {},
      "outputs": [
        {
          "name": "stdout",
          "output_type": "stream",
          "text": [
            "4497\n"
          ]
        }
      ],
      "source": [
        "EPS_START = 0.9\n",
        "EPS_END = 0.01\n",
        "EPS_DECAY = 0.999\n",
        "\n",
        "count = 0\n",
        "eps = EPS_START\n",
        "while (eps := eps * EPS_DECAY) > EPS_END:\n",
        "    count += 1\n",
        "\n",
        "print(count)"
      ]
    },
    {
      "cell_type": "code",
      "execution_count": 10,
      "metadata": {
        "colab": {
          "base_uri": "https://localhost:8080/",
          "height": 449
        },
        "id": "lKthgwiEqjJl",
        "outputId": "5b6c8fb2-0e8b-468f-b001-27559fceadf2"
      },
      "outputs": [
        {
          "data": {
            "image/png": "[encoded data removed]",
            "text/plain": [
              "<Figure size 640x480 with 1 Axes>"
            ]
          },
          "metadata": {},
          "output_type": "display_data"
        }
      ],
      "source": [
        "# PLOT METRIC OVER TIME DURING TRAINING\n",
        "\n",
        "# loss_vals = [item.detach().cpu().numpy().tolist() for item in losses]\n",
        "\n",
        "plt.plot(trained_best_tiles)\n",
        "# plt.plot(trained_scores)\n",
        "# plt.plot(loss_vals)\n",
        "\n",
        "# add labels and legend\n",
        "plt.xlabel('X-axis')\n",
        "plt.ylabel('Y-axis')\n",
        "plt.legend(['best tiles', 'score', 'losses'])\n",
        "\n",
        "# display the plot\n",
        "plt.show()\n"
      ]
    },
    {
      "cell_type": "code",
      "execution_count": 12,
      "metadata": {
        "id": "Ftl1LYPAqjJl"
      },
      "outputs": [],
      "source": [
        "def play_game_from_model(save: bool=False):\n",
        "    # Initialize the random game\n",
        "    random_seed = random.randint(0, 2**32 - 1)\n",
        "    trained_game = Game(seed=random_seed, iterative_mode=True, save_game=save, visualize=False)\n",
        "    trained_board = trained_game.init_board()\n",
        "    # print('new game')\n",
        "    # Step through the game loop\n",
        "    total_score = 0\n",
        "    game_over = False\n",
        "    step_count = 0\n",
        "    invalid_count = 0\n",
        "    qnet.eval()\n",
        "    is_invalid = False\n",
        "    invalid_index = 1\n",
        "    while not game_over:\n",
        "        trained_action = None\n",
        "        with torch.no_grad():\n",
        "            vals = qnet(trained_board)\n",
        "            # if count < 50:\n",
        "            #     print(vals)\n",
        "            if is_invalid:\n",
        "                # print(vals)\n",
        "                # print(invalid_index)\n",
        "                _, indices = torch.topk(vals, k=invalid_index)\n",
        "                trained_action = indices[0][invalid_index-1]\n",
        "                # print(trained_action)\n",
        "                # print()\n",
        "                # trained_action = torch.argmax(vals)\n",
        "                is_invalid = False\n",
        "            else:\n",
        "                trained_action = torch.argmax(vals)\n",
        "            trained_action = Direction(trained_action.item())\n",
        "        new_trained_board, reward, game_over = trained_game.step(trained_board, trained_action)\n",
        "\n",
        "        if np.array_equal(new_trained_board, trained_board):\n",
        "            invalid_count += 1\n",
        "            invalid_index += 1\n",
        "            is_invalid = True\n",
        "        else:\n",
        "            invalid_index = 1\n",
        "            total_score += reward.action_score\n",
        "            step_count += 1\n",
        "            trained_board = new_trained_board.copy()\n",
        "        # if count < 50:\n",
        "        #   print(f'{count} iterations')\n",
        "        #   print(trained_action)\n",
        "        #   print(f'top tile: {np.amax(trained_board)}')\n",
        "        #   print(trained_board)\n",
        "\n",
        "    if save:\n",
        "        trained_game.history.final_board = trained_board\n",
        "        trained_game.store_history('test_trained_games')\n",
        "\n",
        "    qnet.train()\n",
        "    \n",
        "    return trained_board, total_score, step_count, invalid_count"
      ]
    },
    {
      "cell_type": "code",
      "execution_count": 15,
      "metadata": {
        "colab": {
          "base_uri": "https://localhost:8080/",
          "height": 1000
        },
        "id": "Hzpsq9tQqjJl",
        "outputId": "e971526f-a2f8-438a-84cf-d0329940d892"
      },
      "outputs": [
        {
          "name": "stderr",
          "output_type": "stream",
          "text": [
            "100%|██████████| 100/100 [00:13<00:00,  7.50it/s]\n"
          ]
        },
        {
          "data": {
            "text/plain": [
              "134.32"
            ]
          },
          "execution_count": 15,
          "metadata": {},
          "output_type": "execute_result"
        }
      ],
      "source": [
        "evaluated_episodes = 100\n",
        "evaluated_scores = []\n",
        "evaluated_best_tiles = []\n",
        "save_evaluated_games = False\n",
        "\n",
        "iterations = []\n",
        "invalids = []\n",
        "\n",
        "for episode in tqdm(range(evaluated_episodes), total=evaluated_episodes):\n",
        "    board, score, num_iterations, num_invalid = play_game_from_model(save=save_evaluated_games)\n",
        "    evaluated_scores.append(score)\n",
        "    evaluated_best_tiles.append(np.amax(board))\n",
        "    iterations.append(num_iterations)\n",
        "    invalids.append(num_invalid)\n",
        "\n",
        "np.mean(np.array(iterations))"
      ]
    },
    {
      "cell_type": "code",
      "execution_count": 16,
      "metadata": {
        "id": "1PKgm6gZqjJm",
        "outputId": "4e15b97f-cee4-4782-8da8-ea1331519002"
      },
      "outputs": [
        {
          "name": "stdout",
          "output_type": "stream",
          "text": [
            "[128, 256, 64, 64, 64, 128, 128, 128, 64, 128, 64, 128, 256, 256, 256, 256, 256, 128, 64, 64, 128, 128, 128, 64, 64, 64, 128, 128, 128, 64, 128, 256, 64, 128, 32, 128, 128, 128, 32, 64, 32, 128, 256, 64, 256, 128, 128, 64, 64, 64, 128, 256, 64, 128, 256, 64, 256, 256, 128, 128, 128, 128, 256, 128, 256, 128, 64, 256, 128, 64, 64, 64, 256, 128, 128, 128, 128, 128, 128, 128, 128, 128, 64, 128, 64, 128, 64, 64, 128, 256, 128, 128, 128, 256, 64, 128, 32, 64, 128, 256]\n"
          ]
        },
        {
          "data": {
            "image/png": "[encoded data removed]",
            "text/plain": [
              "<Figure size 640x480 with 1 Axes>"
            ]
          },
          "metadata": {},
          "output_type": "display_data"
        },
        {
          "data": {
            "image/png": "[encoded data removed]",
            "text/plain": [
              "<Figure size 640x480 with 1 Axes>"
            ]
          },
          "metadata": {},
          "output_type": "display_data"
        }
      ],
      "source": [
        "print(evaluated_best_tiles)\n",
        "plot_score_dist(evaluated_scores)\n",
        "plot_best_tile_dist(evaluated_best_tiles)"
      ]
    }
  ],
  "metadata": {
    "accelerator": "GPU",
    "colab": {
      "gpuType": "T4",
      "provenance": []
    },
    "gpuClass": "standard",
    "kernelspec": {
      "display_name": "venv",
      "language": "python",
      "name": "python3"
    },
    "language_info": {
      "codemirror_mode": {
        "name": "ipython",
        "version": 3
      },
      "file_extension": ".py",
      "mimetype": "text/x-python",
      "name": "python",
      "nbconvert_exporter": "python",
      "pygments_lexer": "ipython3",
      "version": "3.10.0"
    },
    "orig_nbformat": 4
  },
  "nbformat": 4,
  "nbformat_minor": 0
}
